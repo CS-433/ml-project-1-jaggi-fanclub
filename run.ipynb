{
 "cells": [
  {
   "cell_type": "code",
   "execution_count": 1,
   "id": "0d22eaf7",
   "metadata": {},
   "outputs": [],
   "source": [
    "import io, os, sys, types\n",
    "import numpy as np"
   ]
  },
  {
   "cell_type": "code",
   "execution_count": 2,
   "id": "e5966fb8",
   "metadata": {},
   "outputs": [],
   "source": [
    "# Useful starting lines\n",
    "%matplotlib inline\n",
    "import numpy as np\n",
    "import matplotlib.pyplot as plt\n",
    "%load_ext autoreload\n",
    "%autoreload 2\n",
    "import datetime"
   ]
  },
  {
   "cell_type": "code",
   "execution_count": 3,
   "id": "5dfe6d75",
   "metadata": {},
   "outputs": [],
   "source": [
    "from implementations import *\n",
    "from proj1_helpers import *\n",
    "from cross_validation import *"
   ]
  },
  {
   "cell_type": "code",
   "execution_count": 4,
   "id": "b4002a1e",
   "metadata": {},
   "outputs": [],
   "source": [
    "def standardize(x):\n",
    "    ''' fill your code in here...\n",
    "    '''\n",
    "    centered_data = x - np.mean(x, axis=0)\n",
    "    std_data = centered_data / np.std(centered_data, axis=0)\n",
    "    \n",
    "    return std_data"
   ]
  },
  {
   "cell_type": "code",
   "execution_count": 5,
   "id": "d597391d",
   "metadata": {},
   "outputs": [],
   "source": [
    "def subset_test_prediction(x_te, w_star, y_te):\n",
    "    '''\n",
    "    Give the accuracy over a test subset data from train\n",
    "    '''\n",
    "    #Same method competition (% accuracy)\n",
    "    #test prediction x_te \n",
    "    y_pred = predict_labels(w_star, x_te)\n",
    "    #compare y_pred,y_test\n",
    "    s = 0\n",
    "    for i in range(len(y_te)):\n",
    "        if y_te[i] == y_pred[i]:\n",
    "            s+=1\n",
    "    print(\"Accuracy:\"+str(s/len(y_te))+\"%\")"
   ]
  },
  {
   "cell_type": "code",
   "execution_count": 6,
   "id": "d70ad5cf",
   "metadata": {},
   "outputs": [],
   "source": [
    "def prediction(w,tX,ids_test):\n",
    "    '''\n",
    "    Give the .csv file for competition\n",
    "    '''\n",
    "    OUTPUT_PATH = 'data/predictions.csv' \n",
    "    y_pred = predict_labels(w, tX)\n",
    "    create_csv_submission(ids_test, y_pred, OUTPUT_PATH)"
   ]
  },
  {
   "cell_type": "code",
   "execution_count": 7,
   "id": "3f574b05",
   "metadata": {},
   "outputs": [],
   "source": [
    "def generate_initial_w(shape):\n",
    "    return np.random.normal(0., 0.1, [shape,])"
   ]
  },
  {
   "cell_type": "code",
   "execution_count": 8,
   "id": "f9e952e2",
   "metadata": {},
   "outputs": [],
   "source": [
    "DATA_TRAIN_PATH = 'data/train.csv' \n",
    "DATA_TEST_PATH = 'data/test.csv' \n",
    "_, tX_test, ids_test = load_csv_data(DATA_TEST_PATH)\n",
    "y_train, tX_train, ids_train = load_csv_data(DATA_TRAIN_PATH)\n",
    "tX_train_std = standardize(tX_train)"
   ]
  },
  {
   "cell_type": "markdown",
   "id": "08417391",
   "metadata": {},
   "source": [
    "# Test GD"
   ]
  },
  {
   "cell_type": "code",
   "execution_count": 9,
   "id": "00967393",
   "metadata": {},
   "outputs": [],
   "source": [
    "# Define the parameters of the algorithm.\n",
    "max_iters = 100\n",
    "gamma = 0.1\n",
    "ratio = 0.3\n",
    "\n",
    "def pred_GD(max_iters,gamma,tX,y,seed,ratio):\n",
    "    x_tr,x_te,y_tr,y_te = split_data(tX, y, 0.3, seed)\n",
    "\n",
    "    # Initialization\n",
    "    w_initial = np.random.rand(30)\n",
    "\n",
    "    # Start gradient descent.\n",
    "    w, loss = mean_squared_error_gd(y_tr, x_tr, w_initial, max_iters, gamma)\n",
    "\n",
    "    if ratio==1:\n",
    "        #Create the .csv file\n",
    "        _, tX_test, ids_test = load_csv_data(DATA_TEST_PATH)\n",
    "        prediction(w,tX,ids_test)\n",
    "    else :\n",
    "        #Give accuracy on the test subset\n",
    "        subset_test_prediction(x_te,w,y_te)\n",
    "\n"
   ]
  },
  {
   "cell_type": "code",
   "execution_count": 10,
   "id": "fb0f87bd",
   "metadata": {},
   "outputs": [
    {
     "name": "stdout",
     "output_type": "stream",
     "text": [
      "Accuracy:0.7119485714285714%\n"
     ]
    }
   ],
   "source": [
    "pred_GD(max_iters,gamma,tX_train_std,y_train,1,ratio)"
   ]
  },
  {
   "cell_type": "markdown",
   "id": "3ac20e68",
   "metadata": {},
   "source": [
    "# Cross validation(using Ridge regression), building data"
   ]
  },
  {
   "cell_type": "code",
   "execution_count": 11,
   "id": "46635fcf",
   "metadata": {},
   "outputs": [
    {
     "name": "stdout",
     "output_type": "stream",
     "text": [
      "3 [0.0001] 0.7975600393919103\n"
     ]
    }
   ],
   "source": [
    "#parameter\n",
    "degrees = np.arange(2,4)\n",
    "k_fold = 3\n",
    "lambdas = np.logspace(-4, 0, 30)\n",
    "seed = 1\n",
    "\n",
    "#split data train/test\n",
    "x_tr,x_te,y_tr,y_te = split_data(tX_train_std, y_train, 0.3, seed)\n",
    "\n",
    "best_degree, best_lambda, best_rmse = best_degree_selection(x_tr,y_tr,degrees, k_fold, lambdas, seed = 1)\n",
    "print(best_degree, best_lambda, best_rmse)"
   ]
  },
  {
   "cell_type": "code",
   "execution_count": 12,
   "id": "b8b1f26e",
   "metadata": {},
   "outputs": [
    {
     "name": "stdout",
     "output_type": "stream",
     "text": [
      "Accuracy:0.7744742857142857%\n"
     ]
    }
   ],
   "source": [
    "#TEST intern substest\n",
    "poly_tr = build_poly(x_tr, best_degree)\n",
    "poly_te = build_poly(x_te, best_degree)\n",
    "w_star, ridge_loss = ridge_regression(y_tr,poly_tr, best_lambda)\n",
    "subset_test_prediction(poly_te,w_star,y_te)"
   ]
  },
  {
   "cell_type": "code",
   "execution_count": 13,
   "id": "516949ff",
   "metadata": {},
   "outputs": [
    {
     "data": {
      "text/plain": [
       "((175000, 90), (90,), (175000,), (175000, 30))"
      ]
     },
     "execution_count": 13,
     "metadata": {},
     "output_type": "execute_result"
    }
   ],
   "source": [
    "poly_te.shape,w_star.shape,y_te.shape,x_te.shape"
   ]
  },
  {
   "cell_type": "markdown",
   "id": "245a5c06",
   "metadata": {},
   "source": [
    "###  1 )Idea : test GD with ridge regression method(lambda), then Cross valid with GD ridge regression\n",
    "###  2) test same method with SGD\n",
    "###  3) test same method with MAE loss instead of MSE"
   ]
  },
  {
   "cell_type": "code",
   "execution_count": 14,
   "id": "093fae56",
   "metadata": {},
   "outputs": [],
   "source": [
    "def accuracy(labels_gt, labels_pred):\n",
    "    \"\"\" Computes accuracy.\n",
    "    \n",
    "    Args:\n",
    "        labels_gt (np.array): GT labels of shape (N, ).\n",
    "        labels_pred (np.array): Predicted labels of shape (N, ).\n",
    "        \n",
    "    Returns:\n",
    "        float: Accuracy, in range [0, 1].\n",
    "    \"\"\"\n",
    "    np.sum(np.abs(labels_gt - labels_pred)==0)\n",
    "    \n",
    "    return np.sum(labels_gt == labels_pred) / labels_gt.shape[0]"
   ]
  },
  {
   "cell_type": "code",
   "execution_count": 15,
   "id": "13748ec5",
   "metadata": {},
   "outputs": [],
   "source": [
    "initial_w = generate_initial_w(tX_train.shape[1])\n",
    "w_rlr, loss_rlr = reg_logistic_regression(y_train, tX_train_std, 0, initial_w, 1000, 0.001)"
   ]
  },
  {
   "cell_type": "code",
   "execution_count": 16,
   "id": "9ada884e",
   "metadata": {},
   "outputs": [],
   "source": [
    "predictions = predict_labels(w_rlr, tX_train_std)"
   ]
  },
  {
   "cell_type": "code",
   "execution_count": 17,
   "id": "0b560ba0",
   "metadata": {},
   "outputs": [
    {
     "data": {
      "text/plain": [
       "0.646672"
      ]
     },
     "execution_count": 17,
     "metadata": {},
     "output_type": "execute_result"
    }
   ],
   "source": [
    "accuracy(y_train, predictions)"
   ]
  },
  {
   "cell_type": "code",
   "execution_count": 18,
   "id": "4c0c70e3",
   "metadata": {},
   "outputs": [],
   "source": [
    "bad_variables = np.where(tX_train == -999)\n",
    "\n",
    "means_without_outliers = np.zeros(tX_train.shape[1])\n",
    "counts_without_outliers = np.zeros(tX_train.shape[1])\n",
    "\n",
    "for entry in tX_train:\n",
    "    for id_point, point in enumerate(entry):\n",
    "        if(point != -999):\n",
    "            means_without_outliers[id_point] += point\n",
    "            counts_without_outliers[id_point] += 1\n",
    "            \n",
    "means_without_outliers /= counts_without_outliers\n",
    "\n",
    "tX_train_no_outliers = tX_train.copy()\n",
    "for entry, point in zip(bad_variables[0], bad_variables[1]):\n",
    "    tX_train_no_outliers[entry, point] = means_without_outliers[point]\n",
    "    \n",
    "tX_train_no_outliers_standardized = standardize(tX_train_no_outliers)"
   ]
  },
  {
   "cell_type": "code",
   "execution_count": 19,
   "id": "8727e11f",
   "metadata": {},
   "outputs": [],
   "source": [
    "initial_w_2 = generate_initial_w(tX_train_no_outliers_standardized.shape[1])\n",
    "w_rlr_2, loss_rlr_2 = reg_logistic_regression(y_train, tX_train_no_outliers_standardized, best_lambda, initial_w_2, 1000, 0.001)"
   ]
  },
  {
   "cell_type": "code",
   "execution_count": null,
   "id": "eb75b38a",
   "metadata": {},
   "outputs": [],
   "source": []
  },
  {
   "cell_type": "code",
   "execution_count": null,
   "id": "170ffa04",
   "metadata": {},
   "outputs": [],
   "source": []
  }
 ],
 "metadata": {
  "kernelspec": {
   "display_name": "Python 3 (ipykernel)",
   "language": "python",
   "name": "python3"
  },
  "language_info": {
   "codemirror_mode": {
    "name": "ipython",
    "version": 3
   },
   "file_extension": ".py",
   "mimetype": "text/x-python",
   "name": "python",
   "nbconvert_exporter": "python",
   "pygments_lexer": "ipython3",
   "version": "3.10.6"
  }
 },
 "nbformat": 4,
 "nbformat_minor": 5
}
